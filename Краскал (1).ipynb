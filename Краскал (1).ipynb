{
  "nbformat": 4,
  "nbformat_minor": 0,
  "metadata": {
    "colab": {
      "provenance": []
    },
    "kernelspec": {
      "name": "python3",
      "display_name": "Python 3"
    },
    "language_info": {
      "name": "python"
    }
  },
  "cells": [
    {
      "cell_type": "markdown",
      "source": [
        "**Задача о минимальном остовном дереве:**\n",
        "\n",
        "* алгоритм Краскала на массиве\n",
        "* алгоритм Краскала на дереве без рангов вершин (Kruskal's algorithm)"
      ],
      "metadata": {
        "id": "TS_u876rSnA3"
      }
    },
    {
      "cell_type": "code",
      "source": [
        "#import pandas as pd\n",
        "import numpy as np\n",
        "import matplotlib.pyplot as plt\n",
        "import networkx as nx\n",
        "import time\n",
        "import random"
      ],
      "metadata": {
        "id": "l2RZBP-8HzOr"
      },
      "execution_count": null,
      "outputs": []
    },
    {
      "cell_type": "code",
      "source": [
        "# создаем случайный неориентированный связный граф\n",
        "def generate_random_graph(num_vertices):\n",
        "    edges = []\n",
        "    for u in range(num_vertices):                 # Перебираем все возможные ребра\n",
        "        for v in range(u + 1, num_vertices):\n",
        "          weight = random.randint(1, 100)          # Задаем вес каждому ребру от  1 до 10\n",
        "          edges.append((u, v, weight))\n",
        "    return edges\n"
      ],
      "metadata": {
        "id": "Mew8qwV9MRuS"
      },
      "execution_count": null,
      "outputs": []
    },
    {
      "cell_type": "code",
      "source": [
        "num_vertices = 12  # Количество вершин\n",
        "edges = generate_random_graph(num_vertices)\n",
        "print(f\"Random Edges:{edges}\")"
      ],
      "metadata": {
        "id": "l2tNYOo7OAV4"
      },
      "execution_count": null,
      "outputs": []
    },
    {
      "cell_type": "code",
      "source": [
        "#t1 = random_edges.copy()"
      ],
      "metadata": {
        "id": "UyEv_-iGyibu"
      },
      "execution_count": null,
      "outputs": []
    },
    {
      "cell_type": "markdown",
      "source": [
        "### алгоритм Краскала на массиве"
      ],
      "metadata": {
        "id": "sNbIy1QGuRPc"
      }
    },
    {
      "cell_type": "code",
      "source": [
        "\n",
        "def find(parent, v):\n",
        "    # Поиск корня вершины\n",
        "    while parent[v] != v:\n",
        "        v = parent[v]\n",
        "    return v\n",
        "\n",
        "def union(parent, rank, u, v):\n",
        "    # Объединение двух компонент\n",
        "    root_u = find(parent, u)\n",
        "    root_v = find(parent, v)\n",
        "\n",
        "    if root_u != root_v:\n",
        "        if rank[root_u] > rank[root_v]:\n",
        "            parent[root_v] = root_u\n",
        "        elif rank[root_u] < rank[root_v]:\n",
        "            parent[root_u] = root_v\n",
        "        else:\n",
        "            parent[root_v] = root_u\n",
        "            rank[root_u] += 1\n",
        "\n",
        "def kruskal_mst(num_vertices, edges):\n",
        "    # Сортируем рёбра по весу\n",
        "    edges = sorted(edges, key=lambda x: x[2])\n",
        "\n",
        "    parent = list(range(num_vertices))  # Каждая вершина изначально является своим корнем\n",
        "    rank = [0] * num_vertices          # Ранг для объединения компонент\n",
        "    result = []                        # Результирующий список рёбер MST\n",
        "\n",
        "    e = 0  # Количество рёбер в MST\n",
        "    i = 0  # Индекс для перебора рёбер\n",
        "\n",
        "    # Пока не будет выбрано n-1 рёбер\n",
        "    while e <= num_vertices - 1 and i < len(edges):\n",
        "        u, v, weight = edges[i]\n",
        "        i += 1\n",
        "        x = find(parent, u)\n",
        "        y = find(parent, v)\n",
        "\n",
        "        # Если добавление ребра не создаёт цикл\n",
        "        if x != y:\n",
        "            e += 1\n",
        "            result.append((u, v, weight))\n",
        "            union(parent, rank, x, y)\n",
        "\n",
        "    # Вывод результатов\n",
        "    minimum_cost = sum(weight for _, _, weight in result)\n",
        "    return result, minimum_cost\n",
        "\n",
        "# Пример использования\n",
        "if __name__ == \"__main__\":\n",
        "\n",
        "    mst, total_cost = kruskal_mst(num_vertices, edges)\n",
        "    # Создание графа для визуализации\n",
        "    G = nx.Graph()\n",
        "    G.add_weighted_edges_from(edges)\n",
        "\n",
        "    # Создаём подграф MST для отображения минимального остовного дерева\n",
        "    mst_graph = nx.Graph()\n",
        "    mst_graph.add_weighted_edges_from(mst)\n",
        "\n",
        "    # Позиции вершин\n",
        "    pos = nx.spring_layout(G)\n",
        "\n",
        "    # Визуализация всех рёбер\n",
        "    nx.draw(\n",
        "        G,\n",
        "        pos,\n",
        "        with_labels=True,\n",
        "        edge_color=\"grey\",\n",
        "        width=0.5,\n",
        "        node_size=500,\n",
        "        font_size=10,\n",
        "        alpha=0.8,\n",
        "    )\n",
        "\n",
        "    # Визуализация рёбер MST поверх основного графа\n",
        "    nx.draw_networkx_edges(\n",
        "        mst_graph,\n",
        "        pos,\n",
        "        edge_color=\"red\",\n",
        "        width=2,\n",
        "    )\n",
        "    plt.show()\n",
        "\n"
      ],
      "metadata": {
        "id": "3iXNEqw6DiPF"
      },
      "execution_count": null,
      "outputs": []
    },
    {
      "cell_type": "code",
      "source": [
        "start_time = time.time()\n",
        "kruskal_mst(num_vertices, edges)\n",
        "print(f'Время работы {(time.time() - start_time) * 1000} ms')\n",
        "\n",
        "\n",
        "mst, total_weight = kruskal_mst(num_vertices, edges)\n",
        "print(\"Рёбра в минимальном остовном дереве:\")\n",
        "for u, v, weight in mst:\n",
        "    print(f\"{u} -- {v} == {weight}\")"
      ],
      "metadata": {
        "id": "BSccVBjG36jh"
      },
      "execution_count": null,
      "outputs": []
    },
    {
      "cell_type": "code",
      "source": [
        "iterations = 10\n",
        "total_time = 0\n",
        "for _ in range(iterations):\n",
        "    start_time = time.time()\n",
        "    kruskal_mst(num_vertices, edges)\n",
        "    total_time += (time.time() - start_time)\n",
        "\n",
        "print(f'Среднее время выполнения: {(total_time / iterations) * 1000:.3f} ms')"
      ],
      "metadata": {
        "id": "KoiwCy8MuhUd"
      },
      "execution_count": null,
      "outputs": []
    },
    {
      "cell_type": "markdown",
      "source": [
        "### алгоритм Краскала на дереве без рангов вершин"
      ],
      "metadata": {
        "id": "pjlFSfuguWND"
      }
    },
    {
      "cell_type": "code",
      "source": [
        "# Преимущество: После первого вызова find, в будущем все вершины на пути к корню будут напрямую связаны с корнем, что значительно ускоряет последующие поиски.\n",
        "\n",
        "\n",
        "def find(parent, v):\n",
        "    # Поиск корня вершины с сжатием путей\n",
        "    if parent[v] != v:\n",
        "        parent[v] = find(parent, parent[v])  # Сжимаем путь\n",
        "    return parent[v]\n",
        "\n",
        "def union(parent, u, v):\n",
        "    # Объединение двух компонент без рангов\n",
        "    root_u = find(parent, u)\n",
        "    root_v = find(parent, v)\n",
        "\n",
        "    if root_u != root_v:\n",
        "        parent[root_v] = root_u  # Просто объединяем компоненты\n",
        "\n",
        "def kruskal_tree(num_vertices, edges):\n",
        "    # Сортируем рёбра по весу\n",
        "    edges = sorted(edges, key=lambda x: x[2])\n",
        "\n",
        "    parent = list(range(num_vertices))  # Каждая вершина изначально является своим корнем\n",
        "    result = []  # Результирующий список рёбер MST\n",
        "\n",
        "    e = 0  # Количество рёбер в MST\n",
        "    i = 0  # Индекс для перебора рёбер\n",
        "\n",
        "    # Пока не будет выбрано n-1 рёбер\n",
        "    while e < num_vertices - 1 and i < len(edges):\n",
        "        u, v, weight = edges[i]\n",
        "        i += 1\n",
        "\n",
        "        root_u = find(parent, u)\n",
        "        root_v = find(parent, v)\n",
        "\n",
        "        # Если добавление ребра не создаёт цикл\n",
        "        if root_u != root_v:\n",
        "            e += 1\n",
        "            result.append((u, v, weight))\n",
        "            union(parent, u, v)\n",
        "\n",
        "    # Вывод результатов\n",
        "    minimum_cost = sum(weight for _, _, weight in result)\n",
        "    return result, minimum_cost\n",
        "\n",
        "# Пример использования\n",
        "if __name__ == \"__main__\":\n",
        "    mst, total_cost = kruskal_tree(num_vertices, edges)\n",
        "\n",
        "    # Создание графа для визуализации\n",
        "    G = nx.Graph()\n",
        "    G.add_weighted_edges_from(edges)\n",
        "\n",
        "    # Создаём подграф MST для отображения минимального остовного дерева\n",
        "    mst_graph = nx.Graph()\n",
        "    mst_graph.add_weighted_edges_from(mst)\n",
        "\n",
        "    # Позиции вершин\n",
        "    pos = nx.spring_layout(G, seed=42)\n",
        "\n",
        "    # Визуализация всех рёбер\n",
        "    nx.draw(\n",
        "        G,\n",
        "        pos,\n",
        "        with_labels=True,\n",
        "        edge_color=\"grey\",\n",
        "        width=0.5,\n",
        "        node_size=500,\n",
        "        font_size=10,\n",
        "        alpha=0.8,\n",
        "    )\n",
        "\n",
        "    # Визуализация рёбер MST поверх основного графа\n",
        "    nx.draw_networkx_edges(\n",
        "        mst_graph,\n",
        "        pos,\n",
        "        edge_color=\"red\",\n",
        "        width=2,\n",
        "    )\n",
        "    plt.show()\n"
      ],
      "metadata": {
        "id": "jWODmWFu6ahu"
      },
      "execution_count": null,
      "outputs": []
    },
    {
      "cell_type": "markdown",
      "source": [
        " * Сортировка рёбер: O(E*logE)\n",
        " * Перебор рёбер и выполнение операций find и union: O(E*α(V)), где α — это обратная функция Аккермана, которая растёт очень медленно и для практических целей считается почти константной => O(E)\n",
        "\n",
        "**Общая сложность алгоритма Краскала с использованием сжатия пути и без рангов — O(E*logE).**\n"
      ],
      "metadata": {
        "id": "a8xkfmspKkhP"
      }
    },
    {
      "cell_type": "code",
      "source": [
        "start_time = time.time()\n",
        "kruskal_tree(num_vertices, edges)\n",
        "print(f'Время работы {(time.time() - start_time) * 1000} ms')\n",
        "\n",
        "mst_tree, total_weight = kruskal_tree(num_vertices, edges)\n",
        "print(\"Edges in the Minimum Spanning Tree:\")\n",
        "for u, v, weight in mst_tree:\n",
        "    print(f\"{u} -- {v} == {weight}\")"
      ],
      "metadata": {
        "id": "hx3VT8Ui6aeG"
      },
      "execution_count": null,
      "outputs": []
    },
    {
      "cell_type": "markdown",
      "source": [
        "### Анализ производительности алгоритмов при увеличении графа"
      ],
      "metadata": {
        "id": "SMzgNTwZVG_A"
      }
    },
    {
      "cell_type": "code",
      "source": [
        "vertices = []\n",
        "time_ = []\n",
        "time_tree = []\n",
        "for i in range(10, 200, 10):\n",
        "  vertices.append(i)\n",
        "  random_edges = generate_random_graph(i) # Сздаем граф с разным кол-вом вершин\n",
        "\n",
        "  start_time = time.time()\n",
        "  kruskal_tree(num_vertices,edges)\n",
        "  time_.append((time.time() - start_time) * 1000) # время выполнения на массиве и i вершинах\n",
        "\n",
        "  start_time = time.time()\n",
        "  kruskal_tree(i, random_edges)\n",
        "  time_tree.append((time.time() - start_time) * 1000 )# время выполнения на дереве и i вершинах"
      ],
      "metadata": {
        "id": "humVddnxVYF2"
      },
      "execution_count": null,
      "outputs": []
    },
    {
      "cell_type": "code",
      "source": [
        "plt.plot(vertices, time_, label = 'на массиве')\n",
        "plt.plot(vertices, time_tree, label = 'на дереве без рангов вершин')\n",
        "plt.title (\"Время работы алг. Краскала, (ms)\")\n",
        "plt.legend(loc='best', fontsize=12)\n",
        "plt.show()"
      ],
      "metadata": {
        "id": "Sj10Vl7rWQ_U"
      },
      "execution_count": null,
      "outputs": []
    },
    {
      "cell_type": "code",
      "source": [],
      "metadata": {
        "id": "WC98zKfrXK_l"
      },
      "execution_count": null,
      "outputs": []
    },
    {
      "cell_type": "code",
      "source": [
        "# def generate_random_graph(num_vertices):\n",
        "#     edges = []\n",
        "#     connected = set()\n",
        "\n",
        "#     # Создание остовного дерева\n",
        "#     for u in range(1, num_vertices):\n",
        "#         v = random.randint(0, u - 1)\n",
        "#         weight = random.randint(1, 100)\n",
        "#         edges.append((u, v, weight))\n",
        "#         connected.add((min(u, v), max(u, v)))\n",
        "\n",
        "#     # Добавление дополнительных рёбер\n",
        "#     additional_edges = num_vertices * 2\n",
        "#     for _ in range(additional_edges):\n",
        "#         u, v = random.sample(range(num_vertices), 2)\n",
        "#         edge = (min(u, v), max(u, v))\n",
        "#         if edge not in connected:\n",
        "#             weight = random.randint(1, 100)\n",
        "#             edges.append((u, v, weight))\n",
        "#             connected.add(edge)\n",
        "\n",
        "#     return edges\n"
      ],
      "metadata": {
        "id": "EbDabD7omHVI"
      },
      "execution_count": null,
      "outputs": []
    }
  ]
}